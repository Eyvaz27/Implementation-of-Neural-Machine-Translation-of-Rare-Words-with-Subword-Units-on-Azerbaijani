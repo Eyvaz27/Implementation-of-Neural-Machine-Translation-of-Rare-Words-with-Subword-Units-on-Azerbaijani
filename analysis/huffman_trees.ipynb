{
 "cells": [
  {
   "cell_type": "code",
   "execution_count": 1,
   "metadata": {},
   "outputs": [
    {
     "name": "stderr",
     "output_type": "stream",
     "text": [
      "/home/codespace/.local/share/virtualenvs/Implementation-of-Neural-Machine-Translati-2BUKKnR4/lib/python3.12/site-packages/tqdm/auto.py:21: TqdmWarning: IProgress not found. Please update jupyter and ipywidgets. See https://ipywidgets.readthedocs.io/en/stable/user_install.html\n",
      "  from .autonotebook import tqdm as notebook_tqdm\n"
     ]
    }
   ],
   "source": [
    "import os \n",
    "import numpy as np\n",
    "import pandas as pd\n",
    "import matplotlib.pyplot as plt\n",
    "from datasets import load_from_disk\n",
    "from collections import Counter\n",
    "from itertools import compress\n",
    "\n",
    "dataset_path = \"/workspaces/Implementation-of-Neural-Machine-Translation-of-Rare-Words-with-Subword-Units-on-Azerbaijani/data_source\"\n",
    "ds = load_from_disk(dataset_path=dataset_path)"
   ]
  },
  {
   "cell_type": "code",
   "execution_count": 2,
   "metadata": {},
   "outputs": [],
   "source": [
    "from sklearn.model_selection import train_test_split\n",
    "\n",
    "raw_data = ds[\"train\"].to_pandas()\n",
    "X = raw_data[\"partial_text\"].map(lambda text: text.lower())\n",
    "y = raw_data[\"gold_ending\"].map(lambda text: text.lower())\n",
    "\n",
    "X_train_val, X_test, y_train_val, y_test = train_test_split(X, y, test_size=0.1, random_state=42)\n",
    "X_train, X_val, y_train, y_val = train_test_split(X_train_val, y_train_val, test_size=0.1/0.9, random_state=42)\n",
    "\n",
    "\n",
    "X_train_val.reset_index(inplace=True, drop=True)\n",
    "X_train.reset_index(inplace=True, drop=True)\n",
    "X_test.reset_index(inplace=True, drop=True)\n",
    "X_val.reset_index(inplace=True, drop=True)\n",
    "\n",
    "y_train_val.reset_index(inplace=True, drop=True)\n",
    "y_train.reset_index(inplace=True, drop=True)\n",
    "y_test.reset_index(inplace=True, drop=True)\n",
    "y_val.reset_index(inplace=True, drop=True)"
   ]
  },
  {
   "cell_type": "code",
   "execution_count": 3,
   "metadata": {},
   "outputs": [
    {
     "name": "stdout",
     "output_type": "stream",
     "text": [
      "\n",
      "\n",
      "\n"
     ]
    }
   ],
   "source": [
    "from tokenizers import Tokenizer, models, pre_tokenizers, decoders, trainers, processors\n",
    "\n",
    "# Initialize a tokenizer\n",
    "tokenizer = Tokenizer(models.BPE())\n",
    "\n",
    "# Customize pre-tokenization and decoding\n",
    "tokenizer.pre_tokenizer = pre_tokenizers.ByteLevel(add_prefix_space=True)\n",
    "tokenizer.decoder = decoders.ByteLevel()\n",
    "tokenizer.post_processor = processors.ByteLevel(trim_offsets=True)\n",
    "\n",
    "# And then train\n",
    "initial_aze_alphabet = list(set(' '.join(X_train_val)))\n",
    "\n",
    "\n",
    "trainer = trainers.BpeTrainer(\n",
    "    vocab_size=20000, min_frequency=2,\n",
    "    initial_alphabet=initial_aze_alphabet,\n",
    "    special_tokens=[\"<bos>\", \"<eos>\", \"<pad>\", \"<mask>\"])\n",
    "\n",
    "tokenizer.train_from_iterator(X_train_val.map(lambda sentence: \"<bos> \" + sentence + \" <eos>\"), trainer=trainer)\n",
    "tokenizer.save(path=os.path.join(os.path.join(os.getcwd(), \"tokenizer_files/aze_nsp.json\")))"
   ]
  },
  {
   "cell_type": "code",
   "execution_count": 4,
   "metadata": {},
   "outputs": [
    {
     "data": {
      "text/plain": [
       "' bürc xəlifə hal-hazırda 111 dünyada ən hündür göydələndir '"
      ]
     },
     "execution_count": 4,
     "metadata": {},
     "output_type": "execute_result"
    }
   ],
   "source": [
    "sample_sentence = \"<bos> Bürc Xəlifə hal-hazırda 111 dünyada ən hündür göydələndir <eos>\"\n",
    "tokenizer.decode(tokenizer.encode(sample_sentence.lower()).ids)"
   ]
  },
  {
   "cell_type": "code",
   "execution_count": 5,
   "metadata": {},
   "outputs": [],
   "source": [
    "from huffman_tree import build_huffman_tree_from_tokenizer\n",
    "save_dir = os.path.join(os.getcwd(), \"huffman_save/\")\n",
    "build_huffman_tree_from_tokenizer(tokenizer, X_train_val, save_dir=save_dir)"
   ]
  }
 ],
 "metadata": {
  "kernelspec": {
   "display_name": "Implementation-of-Neural-Machine-Translati-2BUKKnR4",
   "language": "python",
   "name": "python3"
  },
  "language_info": {
   "codemirror_mode": {
    "name": "ipython",
    "version": 3
   },
   "file_extension": ".py",
   "mimetype": "text/x-python",
   "name": "python",
   "nbconvert_exporter": "python",
   "pygments_lexer": "ipython3",
   "version": "3.12.1"
  }
 },
 "nbformat": 4,
 "nbformat_minor": 2
}
