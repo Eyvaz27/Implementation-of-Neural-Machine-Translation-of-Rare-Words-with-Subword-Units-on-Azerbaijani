{
 "cells": [
  {
   "cell_type": "code",
   "execution_count": null,
   "metadata": {},
   "outputs": [
    {
     "name": "stderr",
     "output_type": "stream",
     "text": [
      "/home/codespace/.local/share/virtualenvs/Implementation-of-Neural-Machine-Translati-2BUKKnR4/lib/python3.12/site-packages/tqdm/auto.py:21: TqdmWarning: IProgress not found. Please update jupyter and ipywidgets. See https://ipywidgets.readthedocs.io/en/stable/user_install.html\n",
      "  from .autonotebook import tqdm as notebook_tqdm\n"
     ]
    }
   ],
   "source": [
    "import numpy as np\n",
    "import pandas as pd\n",
    "import matplotlib.pyplot as plt\n",
    "from datasets import load_from_disk\n",
    "from collections import Counter\n",
    "from itertools import compress\n",
    "\n",
    "dataset_path = \"/workspaces/Implementation-of-Neural-Machine-Translation-of-Rare-Words-with-Subword-Units-on-Azerbaijani/data_source\"\n",
    "ds = load_from_disk(dataset_path=dataset_path)"
   ]
  },
  {
   "cell_type": "code",
   "execution_count": 2,
   "metadata": {},
   "outputs": [],
   "source": [
    "from sklearn.model_selection import train_test_split\n",
    "\n",
    "raw_data = ds[\"train\"].to_pandas()\n",
    "X = raw_data[\"partial_text\"].map(lambda text: text.lower())\n",
    "y = raw_data[\"gold_ending\"].map(lambda text: text.lower())\n",
    "\n",
    "X_train_val, X_test, y_train_val, y_test = train_test_split(X, y, test_size=0.1, random_state=42)\n",
    "X_train, X_val, y_train, y_val = train_test_split(X_train_val, y_train_val, test_size=0.1/0.9, random_state=42)\n",
    "\n",
    "\n",
    "X_train_val.reset_index(inplace=True, drop=True)\n",
    "X_train.reset_index(inplace=True, drop=True)\n",
    "X_test.reset_index(inplace=True, drop=True)\n",
    "X_val.reset_index(inplace=True, drop=True)\n",
    "\n",
    "y_train_val.reset_index(inplace=True, drop=True)\n",
    "y_train.reset_index(inplace=True, drop=True)\n",
    "y_test.reset_index(inplace=True, drop=True)\n",
    "y_val.reset_index(inplace=True, drop=True)"
   ]
  },
  {
   "cell_type": "code",
   "execution_count": 3,
   "metadata": {},
   "outputs": [],
   "source": [
    "from tokenizers import Tokenizer, models, pre_tokenizers, decoders, trainers, processors\n",
    "\n",
    "# Initialize a tokenizer\n",
    "tokenizer = Tokenizer(models.BPE())\n",
    "\n",
    "# Customize pre-tokenization and decoding\n",
    "tokenizer.pre_tokenizer = pre_tokenizers.ByteLevel(add_prefix_space=True)\n",
    "tokenizer.decoder = decoders.ByteLevel()\n",
    "tokenizer.post_processor = processors.ByteLevel(trim_offsets=True)"
   ]
  },
  {
   "cell_type": "code",
   "execution_count": null,
   "metadata": {},
   "outputs": [],
   "source": [
    "# And then train\n",
    "initial_aze_alphabet = list(set(' '.join(X_train_val)))\n",
    "\n",
    "\n",
    "trainer = trainers.BpeTrainer(\n",
    "    vocab_size=20000, min_frequency=2,\n",
    "    initial_alphabet=initial_aze_alphabet,\n",
    "    special_tokens=[\"<bos>\", \"<eos>\", \"<pad>\", \"<mask>\"])"
   ]
  },
  {
   "cell_type": "code",
   "execution_count": 5,
   "metadata": {},
   "outputs": [
    {
     "name": "stdout",
     "output_type": "stream",
     "text": [
      "\n",
      "\n",
      "\n"
     ]
    }
   ],
   "source": [
    "tokenizer.train_from_iterator(X_train_val.map(lambda sentence: \"<bos> \" + sentence + \" <eos>\"), trainer=trainer)"
   ]
  },
  {
   "cell_type": "code",
   "execution_count": 6,
   "metadata": {},
   "outputs": [
    {
     "data": {
      "text/plain": [
       "[0,\n",
       " 2003,\n",
       " 29,\n",
       " 192,\n",
       " 334,\n",
       " 444,\n",
       " 537,\n",
       " 9,\n",
       " 351,\n",
       " 752,\n",
       " 124,\n",
       " 6527,\n",
       " 12,\n",
       " 2480,\n",
       " 556,\n",
       " 2525,\n",
       " 13201,\n",
       " 1295,\n",
       " 72,\n",
       " 1]"
      ]
     },
     "execution_count": 6,
     "metadata": {},
     "output_type": "execute_result"
    }
   ],
   "source": [
    "sample_sentence = \"<bos> Bürc Xəlifə hal-hazırda 111 dünyada ən hündür göydələndir <eos>\"\n",
    "tokenizer.encode(sample_sentence.lower()).ids"
   ]
  },
  {
   "cell_type": "code",
   "execution_count": 7,
   "metadata": {},
   "outputs": [],
   "source": [
    "tokenizer.enable_padding(direction='right')\n",
    "tokenizer.enable_truncation(max_length=20, direction='right')"
   ]
  },
  {
   "cell_type": "code",
   "execution_count": 8,
   "metadata": {},
   "outputs": [
    {
     "data": {
      "text/plain": [
       "[0,\n",
       " 697,\n",
       " 29,\n",
       " 1085,\n",
       " 444,\n",
       " 537,\n",
       " 9,\n",
       " 351,\n",
       " 752,\n",
       " 124,\n",
       " 6527,\n",
       " 12,\n",
       " 2480,\n",
       " 556,\n",
       " 2525,\n",
       " 13201,\n",
       " 1295,\n",
       " 72,\n",
       " 1]"
      ]
     },
     "execution_count": 8,
     "metadata": {},
     "output_type": "execute_result"
    }
   ],
   "source": [
    "tokenizer.encode(sample_sentence).ids"
   ]
  },
  {
   "cell_type": "code",
   "execution_count": null,
   "metadata": {},
   "outputs": [],
   "source": []
  },
  {
   "cell_type": "code",
   "execution_count": null,
   "metadata": {},
   "outputs": [],
   "source": [
    "# And Save it\n",
    "tokenizer.save(\"byte-level-bpe.tokenizer.json\", pretty=True)"
   ]
  }
 ],
 "metadata": {
  "kernelspec": {
   "display_name": "Python 3 (ipykernel)",
   "language": "python",
   "name": "python3"
  }
 },
 "nbformat": 4,
 "nbformat_minor": 2
}
